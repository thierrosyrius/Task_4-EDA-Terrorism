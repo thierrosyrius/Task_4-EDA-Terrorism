{
 "cells": [
  {
   "cell_type": "markdown",
   "id": "229b67ca",
   "metadata": {},
   "source": [
    "# Exploratory Data Analysis - Terrorism"
   ]
  },
  {
   "cell_type": "markdown",
   "id": "a807fb10",
   "metadata": {},
   "source": [
    "# Author: Mame Thierno Diagne"
   ]
  },
  {
   "cell_type": "markdown",
   "id": "c4729561",
   "metadata": {},
   "source": [
    "Our purpose is to perform ‘Exploratory Data Analysis’ on dataset ‘Global Terrorism’ "
   ]
  },
  {
   "cell_type": "markdown",
   "id": "63a30749",
   "metadata": {},
   "source": [
    "# Import Libraries And Loading Dataset"
   ]
  },
  {
   "cell_type": "code",
   "execution_count": 1,
   "id": "fd9b1056",
   "metadata": {},
   "outputs": [
    {
     "name": "stderr",
     "output_type": "stream",
     "text": [
      "C:\\Users\\bossv\\Documents\\anacProjects\\lib\\site-packages\\IPython\\core\\interactiveshell.py:3444: DtypeWarning: Columns (4,6,31,33,61,62,63,76,79,90,92,94,96,114,115,121) have mixed types.Specify dtype option on import or set low_memory=False.\n",
      "  exec(code_obj, self.user_global_ns, self.user_ns)\n"
     ]
    }
   ],
   "source": [
    "import pandas as pd\n",
    "import numpy as np\n",
    "import matplotlib.pyplot as plt\n",
    "import seaborn as sns\n",
    "# Loading our dataset\n",
    "df = pd.read_csv(\"globalterrorismdb_0718dist.csv\",encoding=\"ISO-8859-1\")"
   ]
  },
  {
   "cell_type": "code",
   "execution_count": 2,
   "id": "c02849d1",
   "metadata": {},
   "outputs": [
    {
     "data": {
      "text/html": [
       "<div>\n",
       "<style scoped>\n",
       "    .dataframe tbody tr th:only-of-type {\n",
       "        vertical-align: middle;\n",
       "    }\n",
       "\n",
       "    .dataframe tbody tr th {\n",
       "        vertical-align: top;\n",
       "    }\n",
       "\n",
       "    .dataframe thead th {\n",
       "        text-align: right;\n",
       "    }\n",
       "</style>\n",
       "<table border=\"1\" class=\"dataframe\">\n",
       "  <thead>\n",
       "    <tr style=\"text-align: right;\">\n",
       "      <th></th>\n",
       "      <th>eventid</th>\n",
       "      <th>iyear</th>\n",
       "      <th>imonth</th>\n",
       "      <th>iday</th>\n",
       "      <th>approxdate</th>\n",
       "      <th>extended</th>\n",
       "      <th>resolution</th>\n",
       "      <th>country</th>\n",
       "      <th>country_txt</th>\n",
       "      <th>region</th>\n",
       "      <th>...</th>\n",
       "      <th>addnotes</th>\n",
       "      <th>scite1</th>\n",
       "      <th>scite2</th>\n",
       "      <th>scite3</th>\n",
       "      <th>dbsource</th>\n",
       "      <th>INT_LOG</th>\n",
       "      <th>INT_IDEO</th>\n",
       "      <th>INT_MISC</th>\n",
       "      <th>INT_ANY</th>\n",
       "      <th>related</th>\n",
       "    </tr>\n",
       "  </thead>\n",
       "  <tbody>\n",
       "    <tr>\n",
       "      <th>0</th>\n",
       "      <td>197000000001</td>\n",
       "      <td>1970</td>\n",
       "      <td>7</td>\n",
       "      <td>2</td>\n",
       "      <td>NaN</td>\n",
       "      <td>0</td>\n",
       "      <td>NaN</td>\n",
       "      <td>58</td>\n",
       "      <td>Dominican Republic</td>\n",
       "      <td>2</td>\n",
       "      <td>...</td>\n",
       "      <td>NaN</td>\n",
       "      <td>NaN</td>\n",
       "      <td>NaN</td>\n",
       "      <td>NaN</td>\n",
       "      <td>PGIS</td>\n",
       "      <td>0</td>\n",
       "      <td>0</td>\n",
       "      <td>0</td>\n",
       "      <td>0</td>\n",
       "      <td>NaN</td>\n",
       "    </tr>\n",
       "    <tr>\n",
       "      <th>1</th>\n",
       "      <td>197000000002</td>\n",
       "      <td>1970</td>\n",
       "      <td>0</td>\n",
       "      <td>0</td>\n",
       "      <td>NaN</td>\n",
       "      <td>0</td>\n",
       "      <td>NaN</td>\n",
       "      <td>130</td>\n",
       "      <td>Mexico</td>\n",
       "      <td>1</td>\n",
       "      <td>...</td>\n",
       "      <td>NaN</td>\n",
       "      <td>NaN</td>\n",
       "      <td>NaN</td>\n",
       "      <td>NaN</td>\n",
       "      <td>PGIS</td>\n",
       "      <td>0</td>\n",
       "      <td>1</td>\n",
       "      <td>1</td>\n",
       "      <td>1</td>\n",
       "      <td>NaN</td>\n",
       "    </tr>\n",
       "    <tr>\n",
       "      <th>2</th>\n",
       "      <td>197001000001</td>\n",
       "      <td>1970</td>\n",
       "      <td>1</td>\n",
       "      <td>0</td>\n",
       "      <td>NaN</td>\n",
       "      <td>0</td>\n",
       "      <td>NaN</td>\n",
       "      <td>160</td>\n",
       "      <td>Philippines</td>\n",
       "      <td>5</td>\n",
       "      <td>...</td>\n",
       "      <td>NaN</td>\n",
       "      <td>NaN</td>\n",
       "      <td>NaN</td>\n",
       "      <td>NaN</td>\n",
       "      <td>PGIS</td>\n",
       "      <td>-9</td>\n",
       "      <td>-9</td>\n",
       "      <td>1</td>\n",
       "      <td>1</td>\n",
       "      <td>NaN</td>\n",
       "    </tr>\n",
       "    <tr>\n",
       "      <th>3</th>\n",
       "      <td>197001000002</td>\n",
       "      <td>1970</td>\n",
       "      <td>1</td>\n",
       "      <td>0</td>\n",
       "      <td>NaN</td>\n",
       "      <td>0</td>\n",
       "      <td>NaN</td>\n",
       "      <td>78</td>\n",
       "      <td>Greece</td>\n",
       "      <td>8</td>\n",
       "      <td>...</td>\n",
       "      <td>NaN</td>\n",
       "      <td>NaN</td>\n",
       "      <td>NaN</td>\n",
       "      <td>NaN</td>\n",
       "      <td>PGIS</td>\n",
       "      <td>-9</td>\n",
       "      <td>-9</td>\n",
       "      <td>1</td>\n",
       "      <td>1</td>\n",
       "      <td>NaN</td>\n",
       "    </tr>\n",
       "    <tr>\n",
       "      <th>4</th>\n",
       "      <td>197001000003</td>\n",
       "      <td>1970</td>\n",
       "      <td>1</td>\n",
       "      <td>0</td>\n",
       "      <td>NaN</td>\n",
       "      <td>0</td>\n",
       "      <td>NaN</td>\n",
       "      <td>101</td>\n",
       "      <td>Japan</td>\n",
       "      <td>4</td>\n",
       "      <td>...</td>\n",
       "      <td>NaN</td>\n",
       "      <td>NaN</td>\n",
       "      <td>NaN</td>\n",
       "      <td>NaN</td>\n",
       "      <td>PGIS</td>\n",
       "      <td>-9</td>\n",
       "      <td>-9</td>\n",
       "      <td>1</td>\n",
       "      <td>1</td>\n",
       "      <td>NaN</td>\n",
       "    </tr>\n",
       "    <tr>\n",
       "      <th>5</th>\n",
       "      <td>197001010002</td>\n",
       "      <td>1970</td>\n",
       "      <td>1</td>\n",
       "      <td>1</td>\n",
       "      <td>NaN</td>\n",
       "      <td>0</td>\n",
       "      <td>NaN</td>\n",
       "      <td>217</td>\n",
       "      <td>United States</td>\n",
       "      <td>1</td>\n",
       "      <td>...</td>\n",
       "      <td>The Cairo Chief of Police, William Petersen, r...</td>\n",
       "      <td>\"Police Chief Quits,\" Washington Post, January...</td>\n",
       "      <td>\"Cairo Police Chief Quits; Decries Local 'Mili...</td>\n",
       "      <td>Christopher Hewitt, \"Political Violence and Te...</td>\n",
       "      <td>Hewitt Project</td>\n",
       "      <td>-9</td>\n",
       "      <td>-9</td>\n",
       "      <td>0</td>\n",
       "      <td>-9</td>\n",
       "      <td>NaN</td>\n",
       "    </tr>\n",
       "    <tr>\n",
       "      <th>6</th>\n",
       "      <td>197001020001</td>\n",
       "      <td>1970</td>\n",
       "      <td>1</td>\n",
       "      <td>2</td>\n",
       "      <td>NaN</td>\n",
       "      <td>0</td>\n",
       "      <td>NaN</td>\n",
       "      <td>218</td>\n",
       "      <td>Uruguay</td>\n",
       "      <td>3</td>\n",
       "      <td>...</td>\n",
       "      <td>NaN</td>\n",
       "      <td>NaN</td>\n",
       "      <td>NaN</td>\n",
       "      <td>NaN</td>\n",
       "      <td>PGIS</td>\n",
       "      <td>0</td>\n",
       "      <td>0</td>\n",
       "      <td>0</td>\n",
       "      <td>0</td>\n",
       "      <td>NaN</td>\n",
       "    </tr>\n",
       "    <tr>\n",
       "      <th>7</th>\n",
       "      <td>197001020002</td>\n",
       "      <td>1970</td>\n",
       "      <td>1</td>\n",
       "      <td>2</td>\n",
       "      <td>NaN</td>\n",
       "      <td>0</td>\n",
       "      <td>NaN</td>\n",
       "      <td>217</td>\n",
       "      <td>United States</td>\n",
       "      <td>1</td>\n",
       "      <td>...</td>\n",
       "      <td>Damages were estimated to be between $20,000-$...</td>\n",
       "      <td>Committee on Government Operations United Stat...</td>\n",
       "      <td>Christopher Hewitt, \"Political Violence and Te...</td>\n",
       "      <td>NaN</td>\n",
       "      <td>Hewitt Project</td>\n",
       "      <td>-9</td>\n",
       "      <td>-9</td>\n",
       "      <td>0</td>\n",
       "      <td>-9</td>\n",
       "      <td>NaN</td>\n",
       "    </tr>\n",
       "    <tr>\n",
       "      <th>8</th>\n",
       "      <td>197001020003</td>\n",
       "      <td>1970</td>\n",
       "      <td>1</td>\n",
       "      <td>2</td>\n",
       "      <td>NaN</td>\n",
       "      <td>0</td>\n",
       "      <td>NaN</td>\n",
       "      <td>217</td>\n",
       "      <td>United States</td>\n",
       "      <td>1</td>\n",
       "      <td>...</td>\n",
       "      <td>The New Years Gang issue a communiqué to a loc...</td>\n",
       "      <td>Tom Bates, \"Rads: The 1970 Bombing of the Army...</td>\n",
       "      <td>David Newman, Sandra Sutherland, and Jon Stewa...</td>\n",
       "      <td>The Wisconsin Cartographers' Guild, \"Wisconsin...</td>\n",
       "      <td>Hewitt Project</td>\n",
       "      <td>0</td>\n",
       "      <td>0</td>\n",
       "      <td>0</td>\n",
       "      <td>0</td>\n",
       "      <td>NaN</td>\n",
       "    </tr>\n",
       "    <tr>\n",
       "      <th>9</th>\n",
       "      <td>197001030001</td>\n",
       "      <td>1970</td>\n",
       "      <td>1</td>\n",
       "      <td>3</td>\n",
       "      <td>NaN</td>\n",
       "      <td>0</td>\n",
       "      <td>NaN</td>\n",
       "      <td>217</td>\n",
       "      <td>United States</td>\n",
       "      <td>1</td>\n",
       "      <td>...</td>\n",
       "      <td>Karl Armstrong's girlfriend, Lynn Schultz, dro...</td>\n",
       "      <td>Committee on Government Operations United Stat...</td>\n",
       "      <td>Tom Bates, \"Rads: The 1970 Bombing of the Army...</td>\n",
       "      <td>David Newman, Sandra Sutherland, and Jon Stewa...</td>\n",
       "      <td>Hewitt Project</td>\n",
       "      <td>0</td>\n",
       "      <td>0</td>\n",
       "      <td>0</td>\n",
       "      <td>0</td>\n",
       "      <td>NaN</td>\n",
       "    </tr>\n",
       "  </tbody>\n",
       "</table>\n",
       "<p>10 rows × 135 columns</p>\n",
       "</div>"
      ],
      "text/plain": [
       "        eventid  iyear  imonth  iday approxdate  extended resolution  country  \\\n",
       "0  197000000001   1970       7     2        NaN         0        NaN       58   \n",
       "1  197000000002   1970       0     0        NaN         0        NaN      130   \n",
       "2  197001000001   1970       1     0        NaN         0        NaN      160   \n",
       "3  197001000002   1970       1     0        NaN         0        NaN       78   \n",
       "4  197001000003   1970       1     0        NaN         0        NaN      101   \n",
       "5  197001010002   1970       1     1        NaN         0        NaN      217   \n",
       "6  197001020001   1970       1     2        NaN         0        NaN      218   \n",
       "7  197001020002   1970       1     2        NaN         0        NaN      217   \n",
       "8  197001020003   1970       1     2        NaN         0        NaN      217   \n",
       "9  197001030001   1970       1     3        NaN         0        NaN      217   \n",
       "\n",
       "          country_txt  region  ...  \\\n",
       "0  Dominican Republic       2  ...   \n",
       "1              Mexico       1  ...   \n",
       "2         Philippines       5  ...   \n",
       "3              Greece       8  ...   \n",
       "4               Japan       4  ...   \n",
       "5       United States       1  ...   \n",
       "6             Uruguay       3  ...   \n",
       "7       United States       1  ...   \n",
       "8       United States       1  ...   \n",
       "9       United States       1  ...   \n",
       "\n",
       "                                            addnotes  \\\n",
       "0                                                NaN   \n",
       "1                                                NaN   \n",
       "2                                                NaN   \n",
       "3                                                NaN   \n",
       "4                                                NaN   \n",
       "5  The Cairo Chief of Police, William Petersen, r...   \n",
       "6                                                NaN   \n",
       "7  Damages were estimated to be between $20,000-$...   \n",
       "8  The New Years Gang issue a communiqué to a loc...   \n",
       "9  Karl Armstrong's girlfriend, Lynn Schultz, dro...   \n",
       "\n",
       "                                              scite1  \\\n",
       "0                                                NaN   \n",
       "1                                                NaN   \n",
       "2                                                NaN   \n",
       "3                                                NaN   \n",
       "4                                                NaN   \n",
       "5  \"Police Chief Quits,\" Washington Post, January...   \n",
       "6                                                NaN   \n",
       "7  Committee on Government Operations United Stat...   \n",
       "8  Tom Bates, \"Rads: The 1970 Bombing of the Army...   \n",
       "9  Committee on Government Operations United Stat...   \n",
       "\n",
       "                                              scite2  \\\n",
       "0                                                NaN   \n",
       "1                                                NaN   \n",
       "2                                                NaN   \n",
       "3                                                NaN   \n",
       "4                                                NaN   \n",
       "5  \"Cairo Police Chief Quits; Decries Local 'Mili...   \n",
       "6                                                NaN   \n",
       "7  Christopher Hewitt, \"Political Violence and Te...   \n",
       "8  David Newman, Sandra Sutherland, and Jon Stewa...   \n",
       "9  Tom Bates, \"Rads: The 1970 Bombing of the Army...   \n",
       "\n",
       "                                              scite3        dbsource  INT_LOG  \\\n",
       "0                                                NaN            PGIS        0   \n",
       "1                                                NaN            PGIS        0   \n",
       "2                                                NaN            PGIS       -9   \n",
       "3                                                NaN            PGIS       -9   \n",
       "4                                                NaN            PGIS       -9   \n",
       "5  Christopher Hewitt, \"Political Violence and Te...  Hewitt Project       -9   \n",
       "6                                                NaN            PGIS        0   \n",
       "7                                                NaN  Hewitt Project       -9   \n",
       "8  The Wisconsin Cartographers' Guild, \"Wisconsin...  Hewitt Project        0   \n",
       "9  David Newman, Sandra Sutherland, and Jon Stewa...  Hewitt Project        0   \n",
       "\n",
       "   INT_IDEO INT_MISC INT_ANY  related  \n",
       "0         0        0       0      NaN  \n",
       "1         1        1       1      NaN  \n",
       "2        -9        1       1      NaN  \n",
       "3        -9        1       1      NaN  \n",
       "4        -9        1       1      NaN  \n",
       "5        -9        0      -9      NaN  \n",
       "6         0        0       0      NaN  \n",
       "7        -9        0      -9      NaN  \n",
       "8         0        0       0      NaN  \n",
       "9         0        0       0      NaN  \n",
       "\n",
       "[10 rows x 135 columns]"
      ]
     },
     "execution_count": 2,
     "metadata": {},
     "output_type": "execute_result"
    }
   ],
   "source": [
    "# Displays the 10 first rows of the dataset\n",
    "df.head(10)"
   ]
  },
  {
   "cell_type": "code",
   "execution_count": 3,
   "id": "761edcad",
   "metadata": {},
   "outputs": [
    {
     "data": {
      "text/plain": [
       "(181691, 135)"
      ]
     },
     "execution_count": 3,
     "metadata": {},
     "output_type": "execute_result"
    }
   ],
   "source": [
    "# Display the dimension of dataset\n",
    "df.shape"
   ]
  },
  {
   "cell_type": "code",
   "execution_count": 4,
   "id": "b6a94d63",
   "metadata": {},
   "outputs": [
    {
     "name": "stdout",
     "output_type": "stream",
     "text": [
      "<class 'pandas.core.frame.DataFrame'>\n",
      "RangeIndex: 181691 entries, 0 to 181690\n",
      "Columns: 135 entries, eventid to related\n",
      "dtypes: float64(55), int64(22), object(58)\n",
      "memory usage: 187.1+ MB\n"
     ]
    }
   ],
   "source": [
    "# Display the infos\n",
    "df.info()"
   ]
  },
  {
   "cell_type": "code",
   "execution_count": 5,
   "id": "b65bf490",
   "metadata": {},
   "outputs": [
    {
     "data": {
      "text/plain": [
       "Index(['eventid', 'iyear', 'imonth', 'iday', 'approxdate', 'extended',\n",
       "       'resolution', 'country', 'country_txt', 'region',\n",
       "       ...\n",
       "       'addnotes', 'scite1', 'scite2', 'scite3', 'dbsource', 'INT_LOG',\n",
       "       'INT_IDEO', 'INT_MISC', 'INT_ANY', 'related'],\n",
       "      dtype='object', length=135)"
      ]
     },
     "execution_count": 5,
     "metadata": {},
     "output_type": "execute_result"
    }
   ],
   "source": [
    "# the differents columns of the dataset\n",
    "df.columns"
   ]
  },
  {
   "cell_type": "markdown",
   "id": "ff9a8abf",
   "metadata": {},
   "source": [
    "# Data Cleaning & Manipulation"
   ]
  },
  {
   "cell_type": "markdown",
   "id": "fb3b78d2",
   "metadata": {},
   "source": [
    "We Have 135 columns in the dataset. \n",
    "Firstly We are going to choose the necessary columns in the dataset and do it the analysis "
   ]
  },
  {
   "cell_type": "code",
   "execution_count": 3,
   "id": "a2f336fb",
   "metadata": {},
   "outputs": [],
   "source": [
    "# Rename some colums to use in the new dataframe\n",
    "df.rename(columns={'iyear':'Year','imonth':'Month','iday':'Day','country_txt':'Country',\n",
    "                  'region_txt':'Region','provstate':'State','city':'City','attacktype1_txt':'Attack_type',\n",
    "                  'gname':'Group_name','targtype1_txt':'Target_type','targsubtype1_txt':'Target_Sub_type',\n",
    "                  'weaptype1_txt':'Weap_type','weapsubtype1_txt':'Weap_Sub_type',\n",
    "                  'motive':'Motive','weapdetail':'Weap_detail','nkill':'Number_kill'\n",
    "    \n",
    "},inplace=True)"
   ]
  },
  {
   "cell_type": "code",
   "execution_count": 4,
   "id": "ce4883a8",
   "metadata": {},
   "outputs": [],
   "source": [
    "# Now we're gonna take only the columns renamed which are required for analysis\n",
    "df_r=df[['Year','Month','Day','Country','Region','State','City','Attack_type',\n",
    "       'Target_type','Target_Sub_type','Group_name','Motive','Weap_type','Weap_Sub_type',\n",
    "       'Weap_detail','Number_kill']]"
   ]
  },
  {
   "cell_type": "code",
   "execution_count": 8,
   "id": "8258c8f0",
   "metadata": {},
   "outputs": [
    {
     "name": "stdout",
     "output_type": "stream",
     "text": [
      "<class 'pandas.core.frame.DataFrame'>\n",
      "RangeIndex: 181691 entries, 0 to 181690\n",
      "Data columns (total 16 columns):\n",
      " #   Column           Non-Null Count   Dtype  \n",
      "---  ------           --------------   -----  \n",
      " 0   Year             181691 non-null  int64  \n",
      " 1   Month            181691 non-null  int64  \n",
      " 2   Day              181691 non-null  int64  \n",
      " 3   Country          181691 non-null  object \n",
      " 4   Region           181691 non-null  object \n",
      " 5   State            181270 non-null  object \n",
      " 6   City             181257 non-null  object \n",
      " 7   Attack_type      181691 non-null  object \n",
      " 8   Target_type      181691 non-null  object \n",
      " 9   Target_Sub_type  171318 non-null  object \n",
      " 10  Group_name       181691 non-null  object \n",
      " 11  Motive           50561 non-null   object \n",
      " 12  Weap_type        181691 non-null  object \n",
      " 13  Weap_Sub_type    160923 non-null  object \n",
      " 14  Weap_detail      114021 non-null  object \n",
      " 15  Number_kill      171378 non-null  float64\n",
      "dtypes: float64(1), int64(3), object(12)\n",
      "memory usage: 22.2+ MB\n"
     ]
    }
   ],
   "source": [
    "# Let's display our new column\n",
    "df_r.info()"
   ]
  },
  {
   "cell_type": "code",
   "execution_count": 9,
   "id": "0f4e5191",
   "metadata": {},
   "outputs": [
    {
     "data": {
      "text/plain": [
       "Year                    0\n",
       "Month                   0\n",
       "Day                     0\n",
       "Country                 0\n",
       "Region                  0\n",
       "State                 421\n",
       "City                  434\n",
       "Attack_type             0\n",
       "Target_type             0\n",
       "Target_Sub_type     10373\n",
       "Group_name              0\n",
       "Motive             131130\n",
       "Weap_type               0\n",
       "Weap_Sub_type       20768\n",
       "Weap_detail         67670\n",
       "Number_kill         10313\n",
       "dtype: int64"
      ]
     },
     "execution_count": 9,
     "metadata": {},
     "output_type": "execute_result"
    }
   ],
   "source": [
    "# Checking the missing value\n",
    "df_r.isnull().sum()"
   ]
  },
  {
   "cell_type": "markdown",
   "id": "9b550a8c",
   "metadata": {},
   "source": [
    "We gonna fill our NaN value of each columns that have missing value using the imputation method"
   ]
  },
  {
   "cell_type": "code",
   "execution_count": 5,
   "id": "a522ea7e",
   "metadata": {},
   "outputs": [
    {
     "name": "stderr",
     "output_type": "stream",
     "text": [
      "C:\\Users\\bossv\\Documents\\anacProjects\\lib\\site-packages\\pandas\\core\\generic.py:6392: SettingWithCopyWarning: \n",
      "A value is trying to be set on a copy of a slice from a DataFrame\n",
      "\n",
      "See the caveats in the documentation: https://pandas.pydata.org/pandas-docs/stable/user_guide/indexing.html#returning-a-view-versus-a-copy\n",
      "  return self._update_inplace(result)\n"
     ]
    }
   ],
   "source": [
    "# Let's replace by imputing method\n",
    "df_r['State'].fillna(df['State'].mode()[0],inplace=True)\n",
    "df_r['City'].fillna(df_r['City'].mode()[0],inplace=True)\n",
    "df_r['Motive'].fillna(df_r['Motive'].mode()[0],inplace=True)\n",
    "df_r['Weap_Sub_type'].fillna(df_r['Weap_Sub_type'].mode()[0],inplace=True)\n",
    "df_r['Target_Sub_type'].fillna(df_r['Target_Sub_type'].mode()[0],inplace=True)\n",
    "df_r['Weap_detail'].fillna(df_r['Weap_detail'].mode()[0],inplace=True)\n",
    "df_r['Number_kill'].fillna(df_r['Number_kill'].mean(),inplace=True)"
   ]
  },
  {
   "cell_type": "code",
   "execution_count": 11,
   "id": "19ab2e87",
   "metadata": {},
   "outputs": [
    {
     "data": {
      "text/plain": [
       "Year               0\n",
       "Month              0\n",
       "Day                0\n",
       "Country            0\n",
       "Region             0\n",
       "State              0\n",
       "City               0\n",
       "Attack_type        0\n",
       "Target_type        0\n",
       "Target_Sub_type    0\n",
       "Group_name         0\n",
       "Motive             0\n",
       "Weap_type          0\n",
       "Weap_Sub_type      0\n",
       "Weap_detail        0\n",
       "Number_kill        0\n",
       "dtype: int64"
      ]
     },
     "execution_count": 11,
     "metadata": {},
     "output_type": "execute_result"
    }
   ],
   "source": [
    "# let's check again\n",
    "df_r.isnull().sum()"
   ]
  },
  {
   "cell_type": "code",
   "execution_count": 12,
   "id": "a2bbd345",
   "metadata": {},
   "outputs": [
    {
     "data": {
      "text/plain": [
       "0"
      ]
     },
     "execution_count": 12,
     "metadata": {},
     "output_type": "execute_result"
    }
   ],
   "source": [
    "# Checking the duplicated value\n",
    "df.duplicated().sum()"
   ]
  },
  {
   "cell_type": "code",
   "execution_count": 13,
   "id": "601cf42e",
   "metadata": {},
   "outputs": [
    {
     "data": {
      "text/plain": [
       "(181691, 16)"
      ]
     },
     "execution_count": 13,
     "metadata": {},
     "output_type": "execute_result"
    }
   ],
   "source": [
    "# Let's show the shape again\n",
    "df_r.shape"
   ]
  },
  {
   "cell_type": "markdown",
   "id": "f653eb01",
   "metadata": {},
   "source": [
    "# Exploratory Analysis Data"
   ]
  },
  {
   "cell_type": "markdown",
   "id": "4aede326",
   "metadata": {},
   "source": [
    "What are the top 10 years with more attacks?"
   ]
  },
  {
   "cell_type": "code",
   "execution_count": 14,
   "id": "45c4e38c",
   "metadata": {},
   "outputs": [
    {
     "data": {
      "text/plain": [
       "2014    16903\n",
       "2015    14965\n",
       "2016    13587\n",
       "2013    12036\n",
       "2017    10900\n",
       "2012     8522\n",
       "2011     5076\n",
       "1992     5071\n",
       "2010     4826\n",
       "2008     4805\n",
       "Name: Year, dtype: int64"
      ]
     },
     "execution_count": 14,
     "metadata": {},
     "output_type": "execute_result"
    }
   ],
   "source": [
    "df_r['Year'].value_counts().head(10)"
   ]
  },
  {
   "cell_type": "markdown",
   "id": "d3a7203a",
   "metadata": {},
   "source": [
    "Which are the 10 countries that have been most affected by the attacks?"
   ]
  },
  {
   "cell_type": "code",
   "execution_count": 15,
   "id": "0bb48758",
   "metadata": {},
   "outputs": [
    {
     "data": {
      "text/plain": [
       "Iraq              24636\n",
       "Pakistan          14368\n",
       "Afghanistan       12731\n",
       "India             11960\n",
       "Colombia           8306\n",
       "Philippines        6908\n",
       "Peru               6096\n",
       "El Salvador        5320\n",
       "United Kingdom     5235\n",
       "Turkey             4292\n",
       "Name: Country, dtype: int64"
      ]
     },
     "execution_count": 15,
     "metadata": {},
     "output_type": "execute_result"
    }
   ],
   "source": [
    "df_r['Country'].value_counts().head(10)"
   ]
  },
  {
   "cell_type": "markdown",
   "id": "7f181675",
   "metadata": {},
   "source": [
    " Which are the 10 Regions that have been most affected by the attacks?"
   ]
  },
  {
   "cell_type": "code",
   "execution_count": 16,
   "id": "8c43067c",
   "metadata": {},
   "outputs": [
    {
     "data": {
      "text/plain": [
       "Middle East & North Africa     50474\n",
       "South Asia                     44974\n",
       "South America                  18978\n",
       "Sub-Saharan Africa             17550\n",
       "Western Europe                 16639\n",
       "Southeast Asia                 12485\n",
       "Central America & Caribbean    10344\n",
       "Eastern Europe                  5144\n",
       "North America                   3456\n",
       "East Asia                        802\n",
       "Name: Region, dtype: int64"
      ]
     },
     "execution_count": 16,
     "metadata": {},
     "output_type": "execute_result"
    }
   ],
   "source": [
    "df_r['Region'].value_counts().head(10)"
   ]
  },
  {
   "cell_type": "markdown",
   "id": "f96ba13a",
   "metadata": {},
   "source": [
    "Which are the 10 states that have been most affected by the attacks?"
   ]
  },
  {
   "cell_type": "code",
   "execution_count": 17,
   "id": "5cffeeba",
   "metadata": {},
   "outputs": [
    {
     "data": {
      "text/plain": [
       "Baghdad               7645\n",
       "Northern Ireland      4498\n",
       "Unknown               4290\n",
       "Balochistan           3710\n",
       "Saladin               3411\n",
       "Al Anbar              3299\n",
       "Nineveh               3241\n",
       "Sindh                 3206\n",
       "Khyber Pakhtunkhwa    3084\n",
       "Diyala                3041\n",
       "Name: State, dtype: int64"
      ]
     },
     "execution_count": 17,
     "metadata": {},
     "output_type": "execute_result"
    }
   ],
   "source": [
    "df_r['State'].value_counts().head(10)"
   ]
  },
  {
   "cell_type": "markdown",
   "id": "36837f11",
   "metadata": {},
   "source": [
    "Which are the 10 cities that have been most affected by the attacks?"
   ]
  },
  {
   "cell_type": "code",
   "execution_count": 18,
   "id": "65b91259",
   "metadata": {},
   "outputs": [
    {
     "data": {
      "text/plain": [
       "Unknown         9775\n",
       "Baghdad         7589\n",
       "Karachi         2652\n",
       "Lima            2359\n",
       "Mosul           2265\n",
       "Belfast         2171\n",
       "Santiago        1621\n",
       "Mogadishu       1581\n",
       "San Salvador    1558\n",
       "Istanbul        1048\n",
       "Name: City, dtype: int64"
      ]
     },
     "execution_count": 18,
     "metadata": {},
     "output_type": "execute_result"
    }
   ],
   "source": [
    "df_r['City'].value_counts().head(10)"
   ]
  },
  {
   "cell_type": "markdown",
   "id": "5c57c9fd",
   "metadata": {},
   "source": [
    "What are the most common types of attacks\n",
    "top 10 choosing"
   ]
  },
  {
   "cell_type": "code",
   "execution_count": 19,
   "id": "bb3a7028",
   "metadata": {},
   "outputs": [
    {
     "data": {
      "text/plain": [
       "Bombing/Explosion                      88255\n",
       "Armed Assault                          42669\n",
       "Assassination                          19312\n",
       "Hostage Taking (Kidnapping)            11158\n",
       "Facility/Infrastructure Attack         10356\n",
       "Unknown                                 7276\n",
       "Unarmed Assault                         1015\n",
       "Hostage Taking (Barricade Incident)      991\n",
       "Hijacking                                659\n",
       "Name: Attack_type, dtype: int64"
      ]
     },
     "execution_count": 19,
     "metadata": {},
     "output_type": "execute_result"
    }
   ],
   "source": [
    "df_r['Attack_type'].value_counts().head(10)"
   ]
  },
  {
   "cell_type": "markdown",
   "id": "d3173b4a",
   "metadata": {},
   "source": [
    "Which are the 10 group that have made more attacks"
   ]
  },
  {
   "cell_type": "code",
   "execution_count": 20,
   "id": "dee01762",
   "metadata": {},
   "outputs": [
    {
     "data": {
      "text/plain": [
       "Unknown                                             82782\n",
       "Taliban                                              7478\n",
       "Islamic State of Iraq and the Levant (ISIL)          5613\n",
       "Shining Path (SL)                                    4555\n",
       "Farabundo Marti National Liberation Front (FMLN)     3351\n",
       "Al-Shabaab                                           3288\n",
       "New People's Army (NPA)                              2772\n",
       "Irish Republican Army (IRA)                          2671\n",
       "Revolutionary Armed Forces of Colombia (FARC)        2487\n",
       "Boko Haram                                           2418\n",
       "Name: Group_name, dtype: int64"
      ]
     },
     "execution_count": 20,
     "metadata": {},
     "output_type": "execute_result"
    }
   ],
   "source": [
    "df_r['Group_name'].value_counts().head(10)"
   ]
  },
  {
   "cell_type": "markdown",
   "id": "db9c5217",
   "metadata": {},
   "source": [
    "What are the 10 most targeted organizations?"
   ]
  },
  {
   "cell_type": "code",
   "execution_count": 21,
   "id": "71d1e6d1",
   "metadata": {},
   "outputs": [
    {
     "data": {
      "text/plain": [
       "Private Citizens & Property       43511\n",
       "Military                          27984\n",
       "Police                            24506\n",
       "Government (General)              21283\n",
       "Business                          20669\n",
       "Transportation                     6799\n",
       "Utilities                          6023\n",
       "Unknown                            5898\n",
       "Religious Figures/Institutions     4440\n",
       "Educational Institution            4322\n",
       "Name: Target_type, dtype: int64"
      ]
     },
     "execution_count": 21,
     "metadata": {},
     "output_type": "execute_result"
    }
   ],
   "source": [
    "df_r['Target_type'].value_counts().head(10)"
   ]
  },
  {
   "cell_type": "markdown",
   "id": "d14bbcec",
   "metadata": {},
   "source": [
    "What are the 10 most targeted places or individuals"
   ]
  },
  {
   "cell_type": "code",
   "execution_count": 22,
   "id": "eb0709fd",
   "metadata": {},
   "outputs": [
    {
     "data": {
      "text/plain": [
       "Unnamed Civilian/Unspecified                               11596\n",
       "Police Security Forces/Officers                            11178\n",
       "Military Unit/Patrol/Convoy                                 8277\n",
       "Military Personnel (soldiers, troops, officers, forces)     7963\n",
       "Government Personnel (excluding police, military)           6610\n",
       "Village/City/Town/Suburb                                    6542\n",
       "Politician or Political Party Movement/Meeting/Rally        6306\n",
       "Police Building (headquarters, station, school)             5907\n",
       "Military Barracks/Base/Headquarters/Checkpost               5211\n",
       "Police Patrol (including vehicles and convoys)              5105\n",
       "Name: Target_Sub_type, dtype: int64"
      ]
     },
     "execution_count": 22,
     "metadata": {},
     "output_type": "execute_result"
    }
   ],
   "source": [
    "df_r['Target_Sub_type'].value_counts().head(10)"
   ]
  },
  {
   "cell_type": "markdown",
   "id": "0a28bc5a",
   "metadata": {},
   "source": [
    "Let's display what motive claimed"
   ]
  },
  {
   "cell_type": "code",
   "execution_count": 23,
   "id": "cdd0d06d",
   "metadata": {},
   "outputs": [
    {
     "data": {
      "text/plain": [
       "Unknown                                                                                                                                                                                                                                                 14889\n",
       "The specific motive for the attack is unknown.                                                                                                                                                                                                          14430\n",
       "The specific motive is unknown; however, sources noted that the attack may have been part of a larger trend of violence related to Bangladesh's nationwide hartal, which began on January 6, 2015.                                                        297\n",
       "The specific motive for the attack is unknown..                                                                                                                                                                                                           148\n",
       "The specific motive for the attack is unknown or was not reported.                                                                                                                                                                                        144\n",
       "The specific motive for the attack is unknown                                                                                                                                                                                                              73\n",
       "Part of a campaign by Islamic extremists to destabilize Algeria by weakening security forces protecting the 'apostate' Algerian government.                                                                                                                66\n",
       "The specific motive for the attack was political.                                                                                                                                                                                                          57\n",
       "The specific motive is unknown; however, sources suspected that the attack, which targeted members of the Sunni community, may have been part of a larger trend of sectarian violence between Iraq's minority Sunni and majority Shiite communities.       52\n",
       "The attack was carried out because the victim was accused of being a police informer.                                                                                                                                                                      50\n",
       "Name: Motive, dtype: int64"
      ]
     },
     "execution_count": 23,
     "metadata": {},
     "output_type": "execute_result"
    }
   ],
   "source": [
    "df_r['Motive'].value_counts().head(10)"
   ]
  },
  {
   "cell_type": "markdown",
   "id": "d49d13a7",
   "metadata": {},
   "source": [
    "What types of weapons are used?"
   ]
  },
  {
   "cell_type": "code",
   "execution_count": 24,
   "id": "5f0e447c",
   "metadata": {},
   "outputs": [
    {
     "data": {
      "text/plain": [
       "Explosives                                                                     92426\n",
       "Firearms                                                                       58524\n",
       "Unknown                                                                        15157\n",
       "Incendiary                                                                     11135\n",
       "Melee                                                                           3655\n",
       "Chemical                                                                         321\n",
       "Sabotage Equipment                                                               141\n",
       "Vehicle (not to include vehicle-borne explosives, i.e., car or truck bombs)      136\n",
       "Other                                                                            114\n",
       "Biological                                                                        35\n",
       "Fake Weapons                                                                      33\n",
       "Radiological                                                                      14\n",
       "Name: Weap_type, dtype: int64"
      ]
     },
     "execution_count": 24,
     "metadata": {},
     "output_type": "execute_result"
    }
   ],
   "source": [
    "df_r['Weap_type'].value_counts()"
   ]
  },
  {
   "cell_type": "markdown",
   "id": "f2bc461c",
   "metadata": {},
   "source": [
    "What type of equipment or weopon is used"
   ]
  },
  {
   "cell_type": "code",
   "execution_count": 25,
   "id": "35a6218e",
   "metadata": {},
   "outputs": [
    {
     "data": {
      "text/plain": [
       "Unknown Explosive Type                       44980\n",
       "Unknown Gun Type                             33137\n",
       "Automatic or Semi-Automatic Rifle            17412\n",
       "Vehicle                                       9900\n",
       "Projectile (rockets, mortars, RPGs, etc.)     9848\n",
       "Other Explosive Type                          7304\n",
       "Handgun                                       6704\n",
       "Grenade                                       5167\n",
       "Landmine                                      4251\n",
       "Arson/Fire                                    4141\n",
       "Suicide (carried bodily by human being)       3245\n",
       "Remote Trigger                                2719\n",
       "Knife or Other Sharp Object                   2585\n",
       "Sticky Bomb                                   1594\n",
       "Molotov Cocktail/Petrol Bomb                  1239\n",
       "Dynamite/TNT                                  1222\n",
       "Rifle/Shotgun (non-automatic)                 1175\n",
       "Gasoline or Alcohol                            844\n",
       "Time Fuse                                      792\n",
       "Pipe Bomb                                      625\n",
       "Blunt Object                                   587\n",
       "Letter Bomb                                    548\n",
       "Hands, Feet, Fists                             231\n",
       "Pressure Trigger                               219\n",
       "Unknown Weapon Type                            107\n",
       "Rope or Other Strangling Device                103\n",
       "Other Gun Type                                  86\n",
       "Poisoning                                       83\n",
       "Explosive                                       65\n",
       "Suffocation                                     10\n",
       "Name: Weap_Sub_type, dtype: int64"
      ]
     },
     "execution_count": 25,
     "metadata": {},
     "output_type": "execute_result"
    }
   ],
   "source": [
    "df_r['Weap_Sub_type'].value_counts()"
   ]
  },
  {
   "cell_type": "markdown",
   "id": "02413fe2",
   "metadata": {},
   "source": [
    "The number of deaths caused by attacks for the top 10 countries"
   ]
  },
  {
   "cell_type": "code",
   "execution_count": 27,
   "id": "0efce167",
   "metadata": {},
   "outputs": [
    {
     "data": {
      "text/html": [
       "<div>\n",
       "<style scoped>\n",
       "    .dataframe tbody tr th:only-of-type {\n",
       "        vertical-align: middle;\n",
       "    }\n",
       "\n",
       "    .dataframe tbody tr th {\n",
       "        vertical-align: top;\n",
       "    }\n",
       "\n",
       "    .dataframe thead th {\n",
       "        text-align: right;\n",
       "    }\n",
       "</style>\n",
       "<table border=\"1\" class=\"dataframe\">\n",
       "  <thead>\n",
       "    <tr style=\"text-align: right;\">\n",
       "      <th></th>\n",
       "      <th>Year</th>\n",
       "      <th>Month</th>\n",
       "      <th>Day</th>\n",
       "      <th>Number_kill</th>\n",
       "    </tr>\n",
       "    <tr>\n",
       "      <th>Country</th>\n",
       "      <th></th>\n",
       "      <th></th>\n",
       "      <th></th>\n",
       "      <th></th>\n",
       "    </tr>\n",
       "  </thead>\n",
       "  <tbody>\n",
       "    <tr>\n",
       "      <th>Iraq</th>\n",
       "      <td>49579386</td>\n",
       "      <td>160429</td>\n",
       "      <td>385382</td>\n",
       "      <td>78589.0</td>\n",
       "    </tr>\n",
       "    <tr>\n",
       "      <th>Afghanistan</th>\n",
       "      <td>25625202</td>\n",
       "      <td>84082</td>\n",
       "      <td>200828</td>\n",
       "      <td>39384.0</td>\n",
       "    </tr>\n",
       "    <tr>\n",
       "      <th>Pakistan</th>\n",
       "      <td>28880409</td>\n",
       "      <td>91548</td>\n",
       "      <td>222249</td>\n",
       "      <td>23822.0</td>\n",
       "    </tr>\n",
       "    <tr>\n",
       "      <th>Nigeria</th>\n",
       "      <td>7866102</td>\n",
       "      <td>24420</td>\n",
       "      <td>60867</td>\n",
       "      <td>22682.0</td>\n",
       "    </tr>\n",
       "    <tr>\n",
       "      <th>India</th>\n",
       "      <td>23994731</td>\n",
       "      <td>77011</td>\n",
       "      <td>186868</td>\n",
       "      <td>19341.0</td>\n",
       "    </tr>\n",
       "    <tr>\n",
       "      <th>Sri Lanka</th>\n",
       "      <td>6027946</td>\n",
       "      <td>20408</td>\n",
       "      <td>46721</td>\n",
       "      <td>15530.0</td>\n",
       "    </tr>\n",
       "    <tr>\n",
       "      <th>Syria</th>\n",
       "      <td>4429312</td>\n",
       "      <td>14217</td>\n",
       "      <td>34865</td>\n",
       "      <td>15229.0</td>\n",
       "    </tr>\n",
       "    <tr>\n",
       "      <th>Colombia</th>\n",
       "      <td>16561570</td>\n",
       "      <td>54278</td>\n",
       "      <td>125637</td>\n",
       "      <td>14698.0</td>\n",
       "    </tr>\n",
       "    <tr>\n",
       "      <th>Peru</th>\n",
       "      <td>12115735</td>\n",
       "      <td>39267</td>\n",
       "      <td>95373</td>\n",
       "      <td>12771.0</td>\n",
       "    </tr>\n",
       "    <tr>\n",
       "      <th>El Salvador</th>\n",
       "      <td>10556180</td>\n",
       "      <td>34751</td>\n",
       "      <td>79142</td>\n",
       "      <td>12053.0</td>\n",
       "    </tr>\n",
       "  </tbody>\n",
       "</table>\n",
       "</div>"
      ],
      "text/plain": [
       "                 Year   Month     Day  Number_kill\n",
       "Country                                           \n",
       "Iraq         49579386  160429  385382      78589.0\n",
       "Afghanistan  25625202   84082  200828      39384.0\n",
       "Pakistan     28880409   91548  222249      23822.0\n",
       "Nigeria       7866102   24420   60867      22682.0\n",
       "India        23994731   77011  186868      19341.0\n",
       "Sri Lanka     6027946   20408   46721      15530.0\n",
       "Syria         4429312   14217   34865      15229.0\n",
       "Colombia     16561570   54278  125637      14698.0\n",
       "Peru         12115735   39267   95373      12771.0\n",
       "El Salvador  10556180   34751   79142      12053.0"
      ]
     },
     "execution_count": 27,
     "metadata": {},
     "output_type": "execute_result"
    }
   ],
   "source": [
    "df_r.groupby(['Country']).sum().sort_values('Number_kill',ascending=False).head(10)"
   ]
  },
  {
   "cell_type": "markdown",
   "id": "ea020499",
   "metadata": {},
   "source": [
    "# Visualization"
   ]
  },
  {
   "cell_type": "code",
   "execution_count": 28,
   "id": "4304327d",
   "metadata": {},
   "outputs": [
    {
     "data": {
      "image/png": "[encoded data removed]",
      "text/plain": [
       "<Figure size 1008x576 with 1 Axes>"
      ]
     },
     "metadata": {},
     "output_type": "display_data"
    }
   ],
   "source": [
    "# The percemtage of attacks by 10 each countries\n",
    "plt.figure(figsize=(14,8))\n",
    "df_r['Country'].value_counts().head(10).plot.pie(autopct='%1.1f%%')\n",
    "plt.show()"
   ]
  },
  {
   "cell_type": "code",
   "execution_count": null,
   "id": "a8113f17",
   "metadata": {},
   "outputs": [],
   "source": [
    "# Show the density kde of the year"
   ]
  },
  {
   "cell_type": "code",
   "execution_count": 29,
   "id": "4a3584bc",
   "metadata": {},
   "outputs": [
    {
     "data": {
      "text/plain": [
       "<AxesSubplot:ylabel='Density'>"
      ]
     },
     "execution_count": 29,
     "metadata": {},
     "output_type": "execute_result"
    },
    {
     "data": {
      "image/png": "[encoded data removed]",
      "text/plain": [
       "<Figure size 1008x576 with 1 Axes>"
      ]
     },
     "metadata": {
      "needs_background": "light"
     },
     "output_type": "display_data"
    }
   ],
   "source": [
    "df_r[['Year']].plot(kind='kde',figsize=(14,8))"
   ]
  },
  {
   "cell_type": "code",
   "execution_count": null,
   "id": "30f6322a",
   "metadata": {},
   "outputs": [],
   "source": []
  },
  {
   "cell_type": "code",
   "execution_count": 36,
   "id": "431dc01f",
   "metadata": {},
   "outputs": [
    {
     "name": "stderr",
     "output_type": "stream",
     "text": [
      "C:\\Users\\bossv\\Documents\\anacProjects\\lib\\site-packages\\seaborn\\_decorators.py:36: FutureWarning: Pass the following variable as a keyword arg: x. From version 0.12, the only valid positional argument will be `data`, and passing other arguments without an explicit keyword will result in an error or misinterpretation.\n",
      "  warnings.warn(\n"
     ]
    },
    {
     "data": {
      "text/plain": [
       "Text(0, 0.5, 'Total attacks')"
      ]
     },
     "execution_count": 36,
     "metadata": {},
     "output_type": "execute_result"
    },
    {
     "data": {
      "image/png": "[encoded data removed]",
      "text/plain": [
       "<Figure size 432x288 with 1 Axes>"
      ]
     },
     "metadata": {
      "needs_background": "light"
     },
     "output_type": "display_data"
    }
   ],
   "source": [
    "# Show the top 10 of type weapon used\n",
    "sns.countplot(df_r['Weap_type'])\n",
    "plt.xticks(rotation=90)\n",
    "plt.xlabel('Weap Type Used')\n",
    "plt.ylabel('Total attacks')"
   ]
  },
  {
   "cell_type": "code",
   "execution_count": null,
   "id": "6c32a0cd",
   "metadata": {},
   "outputs": [],
   "source": [
    "# Show what are the 10 target types that have more deaths"
   ]
  },
  {
   "cell_type": "code",
   "execution_count": 42,
   "id": "5ce8f190",
   "metadata": {},
   "outputs": [
    {
     "data": {
      "text/plain": [
       "(array([0, 1, 2, 3, 4, 5, 6, 7, 8, 9]),\n",
       " [Text(0, 0, 'Private Citizens & Property'),\n",
       "  Text(1, 0, 'Government (Diplomatic)'),\n",
       "  Text(2, 0, 'Journalists & Media'),\n",
       "  Text(3, 0, 'Government (Diplomatic)'),\n",
       "  Text(4, 0, 'Government (Diplomatic)'),\n",
       "  Text(5, 0, 'Police'),\n",
       "  Text(6, 0, 'Police'),\n",
       "  Text(7, 0, 'Utilities'),\n",
       "  Text(8, 0, 'Military'),\n",
       "  Text(9, 0, 'Government (General)')])"
      ]
     },
     "execution_count": 42,
     "metadata": {},
     "output_type": "execute_result"
    },
    {
     "data": {
      "image/png": "[encoded data removed]",
      "text/plain": [
       "<Figure size 1008x576 with 1 Axes>"
      ]
     },
     "metadata": {
      "needs_background": "light"
     },
     "output_type": "display_data"
    }
   ],
   "source": [
    "df_r.head(10).plot(kind='bar',x='Target_type',y='Number_kill',color='orange',figsize=(14,8))\n",
    "plt.xticks(rotation=90)"
   ]
  },
  {
   "cell_type": "markdown",
   "id": "e2b4b17c",
   "metadata": {},
   "source": [
    "Conclusion:\n",
    "    According to the result of analyzes we see that the attacks are increased exponentially\n",
    "    after the years when they experienced a huge increase in 2014 and gradually decreases.\n",
    "    Irak dominates all countries and it has the highest number of attacks and then Pakistan, \n",
    "    Afganistan and India follow it.\n",
    "    Most of the attacks were attacked through explosives and through fireamrs.\n",
    "    The types of targets that recorded more kills are :Govemment(Diplomatic),journalists & media,Private\n",
    "    citizens & Property.\n",
    "    Groups that have committed more attacks are Tabitan,Islamic State of Iraq and the Levant (ISIL) and unidentified group"
   ]
  }
 ],
 "metadata": {
  "kernelspec": {
   "display_name": "Python 3 (ipykernel)",
   "language": "python",
   "name": "python3"
  },
  "language_info": {
   "codemirror_mode": {
    "name": "ipython",
    "version": 3
   },
   "file_extension": ".py",
   "mimetype": "text/x-python",
   "name": "python",
   "nbconvert_exporter": "python",
   "pygments_lexer": "ipython3",
   "version": "3.9.7"
  }
 },
 "nbformat": 4,
 "nbformat_minor": 5
}
